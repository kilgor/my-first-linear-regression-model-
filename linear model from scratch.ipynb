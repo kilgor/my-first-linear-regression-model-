{
 "cells": [
  {
   "cell_type": "markdown",
   "metadata": {},
   "source": [
    "Video: https://colab.research.google.com/drive/17bs_UTvsNSkdnBMwzhxGqN_eHbu6YBkl?usp=sharing#scrollTo=GmDgN3q0rw6y\n",
    "\n",
    "\n",
    "Linear Regression:\n",
    "\n",
    "y = wx + b\n",
    "\n",
    "y --> Depended Variable\n",
    "\n",
    "x --> Independed Variable\n",
    "\n",
    "w --> weight\n",
    "\n",
    "b --> bias\n",
    "\n",
    "-------------------------------------------------\n",
    "\n",
    "Gradient Descent:\n",
    "Gradient descent is an optimization algorithm used for minimizing the loss function in various machine learning algorithms. It is\n",
    "used for updating the parameters of learning model.\n",
    "\n",
    "w = w - a * dw\n",
    "\n",
    "b = b- a * db\n",
    "\n",
    "\n",
    "-------------------------------------------------\n",
    "\n"
   ]
  },
  {
   "cell_type": "code",
   "execution_count": 8,
   "metadata": {},
   "outputs": [],
   "source": [
    "#importing necessary libraries (numpy, pandas)\n",
    "import numpy as np\n",
    "import pandas as pd\n",
    "from sklearn.model_selection import train_test_split\n",
    "import matplotlib.pyplot as plt\n"
   ]
  },
  {
   "cell_type": "markdown",
   "metadata": {},
   "source": [
    "Linear regression model creation"
   ]
  },
  {
   "cell_type": "code",
   "execution_count": 9,
   "metadata": {},
   "outputs": [],
   "source": [
    "#now create a class under tthe name Linear_Regression\n",
    "class Linear_Regression():\n",
    "    \n",
    "    #we are calling __init__ method to initialize the object\n",
    "    #initiating the parameters (learning rate and no of iterations)\n",
    "    def __init__(self, learning_rate, no_of_iterations):\n",
    "        \n",
    "        self.learning_rate = learning_rate\n",
    "        self.no_of_iterations = no_of_iterations\n",
    "        \n",
    "        \n",
    "        \n",
    "        \n",
    "    #we are calling fit method to train the model\n",
    "    def fit(self, x, y):\n",
    "        \n",
    "        #number of training examples and numer of features         \n",
    "        self.m, self.n = x.shape #number of rows and columns (m=rows, n=columns)\n",
    "        \n",
    "        #initiating the weights and bias of our model\n",
    "        self.w = np.zeros(self.n)\n",
    "        self.b = 0\n",
    "        self.x = x\n",
    "        self.y = y\n",
    "        \n",
    "        #implementing the gradient descent algorithm\n",
    "        for i in range(self.no_of_iterations):\n",
    "            self.update_weights()         \n",
    "        \n",
    "        \n",
    "        \n",
    "        \n",
    "    #we are greating ne function for update the weights\n",
    "    def update_weights(self,):\n",
    "        \n",
    "        y_pred = self.predict(self.x)\n",
    "        \n",
    "        #calculating the gradients\n",
    "        dw = -(2 * (self.x.T).dot(self.y - y_pred)) / self.m\n",
    "        #m = number of training examples\n",
    "        #dw = derivative of weights\n",
    "        #T = transpose of matrix\n",
    "        #y = actual values\n",
    "        #y_pred = predicted values\n",
    "        #x = features\n",
    "        \n",
    "        db = -2 * np.sum(self.y - y_pred) / self.m\n",
    "        #db = derivative of bias\n",
    "        \n",
    "        #updating the weights\n",
    "        self.w = self.w - self.learning_rate * dw\n",
    "        self.b = self.b - self.learning_rate * db\n",
    "        \n",
    "        #self.w = weights\n",
    "        #self.b = bias\n",
    "        #self.learning_rate = learning rate\n",
    "        #dw = derivative of weights\n",
    "        #db = derivative of bias\n",
    "        \n",
    "        \n",
    "        \n",
    "        \n",
    "    #we are creation predict function to predict the values\n",
    "    def predict(self, x):\n",
    "        \n",
    "        return x.dot(self.w) + self.b\n",
    "        \n",
    "        \n",
    "        \n",
    "\n",
    "        "
   ]
  },
  {
   "cell_type": "markdown",
   "metadata": {},
   "source": [
    "Using Linear Regression model for prediction that we created right abowe\n"
   ]
  },
  {
   "cell_type": "markdown",
   "metadata": {},
   "source": [
    "1) Set Learning Rate and numbver of iterations; initiate random weight and bias value\n",
    "2) Build linear regression model\n",
    "3) find the \"y pred\" value for given x value for the corresponding weight and value\n",
    "4) check the loss function for the parameter of the values (difference between \"y pred\" and \"true y\")\n",
    "5) update the parameter of the values using gradient descent. (new weight and bias value)\n",
    "6) Step 3, 4, 5 till we get minimum loss function\n",
    "Finally we will get the best model (best veight and bias value) as it has minimum loss function\n"
   ]
  },
  {
   "cell_type": "code",
   "execution_count": 13,
   "metadata": {},
   "outputs": [
    {
     "data": {
      "text/html": [
       "<div>\n",
       "<style scoped>\n",
       "    .dataframe tbody tr th:only-of-type {\n",
       "        vertical-align: middle;\n",
       "    }\n",
       "\n",
       "    .dataframe tbody tr th {\n",
       "        vertical-align: top;\n",
       "    }\n",
       "\n",
       "    .dataframe thead th {\n",
       "        text-align: right;\n",
       "    }\n",
       "</style>\n",
       "<table border=\"1\" class=\"dataframe\">\n",
       "  <thead>\n",
       "    <tr style=\"text-align: right;\">\n",
       "      <th></th>\n",
       "      <th>YearsExperience</th>\n",
       "      <th>Salary</th>\n",
       "    </tr>\n",
       "  </thead>\n",
       "  <tbody>\n",
       "    <tr>\n",
       "      <th>0</th>\n",
       "      <td>1.1</td>\n",
       "      <td>39343</td>\n",
       "    </tr>\n",
       "    <tr>\n",
       "      <th>1</th>\n",
       "      <td>1.3</td>\n",
       "      <td>46205</td>\n",
       "    </tr>\n",
       "    <tr>\n",
       "      <th>2</th>\n",
       "      <td>1.5</td>\n",
       "      <td>37731</td>\n",
       "    </tr>\n",
       "    <tr>\n",
       "      <th>3</th>\n",
       "      <td>2.0</td>\n",
       "      <td>43525</td>\n",
       "    </tr>\n",
       "    <tr>\n",
       "      <th>4</th>\n",
       "      <td>2.2</td>\n",
       "      <td>39891</td>\n",
       "    </tr>\n",
       "  </tbody>\n",
       "</table>\n",
       "</div>"
      ],
      "text/plain": [
       "   YearsExperience  Salary\n",
       "0              1.1   39343\n",
       "1              1.3   46205\n",
       "2              1.5   37731\n",
       "3              2.0   43525\n",
       "4              2.2   39891"
      ]
     },
     "execution_count": 13,
     "metadata": {},
     "output_type": "execute_result"
    }
   ],
   "source": [
    "#now we are uploading the dataset to test our model\n",
    "df = pd.read_csv(r'D:\\python\\Machine learning practice\\models from scratch\\salary_data.csv')\n",
    "df.head()"
   ]
  },
  {
   "cell_type": "code",
   "execution_count": 14,
   "metadata": {},
   "outputs": [
    {
     "data": {
      "text/plain": [
       "(30, 2)"
      ]
     },
     "execution_count": 14,
     "metadata": {},
     "output_type": "execute_result"
    }
   ],
   "source": [
    "df.shape"
   ]
  },
  {
   "cell_type": "code",
   "execution_count": 15,
   "metadata": {},
   "outputs": [
    {
     "data": {
      "text/plain": [
       "YearsExperience    0\n",
       "Salary             0\n",
       "dtype: int64"
      ]
     },
     "execution_count": 15,
     "metadata": {},
     "output_type": "execute_result"
    }
   ],
   "source": [
    "#checking missing parameters\n",
    "df.isnull().sum()"
   ]
  },
  {
   "cell_type": "code",
   "execution_count": 16,
   "metadata": {},
   "outputs": [],
   "source": [
    "#splitting the target column (y) and feature column (x)\n",
    "x = df.iloc[:, :-1].values\n",
    "y = df.iloc[:, 1].values"
   ]
  },
  {
   "cell_type": "code",
   "execution_count": 32,
   "metadata": {},
   "outputs": [],
   "source": [
    "#splitting data set into training and testing\n",
    "x_train, x_test, y_train, y_test = train_test_split(x, y, test_size=0.33, random_state=0)"
   ]
  },
  {
   "cell_type": "markdown",
   "metadata": {},
   "source": [
    "trainig our model\n"
   ]
  },
  {
   "cell_type": "code",
   "execution_count": 33,
   "metadata": {},
   "outputs": [],
   "source": [
    "#we are monually entering the learning rate and no of iterations\n",
    "model  = Linear_Regression(learning_rate=0.002 , no_of_iterations=1000)\n",
    "model.fit(x_train, y_train)\n"
   ]
  },
  {
   "cell_type": "code",
   "execution_count": 34,
   "metadata": {},
   "outputs": [
    {
     "name": "stdout",
     "output_type": "stream",
     "text": [
      "weight:  11057.570824555\n",
      "bias:  16481.15749072488\n"
     ]
    }
   ],
   "source": [
    "#printing the weights and bias of our model\n",
    "print('weight: ' ,model.w[0])\n",
    "print('bias: ', model.b)"
   ]
  },
  {
   "cell_type": "markdown",
   "metadata": {},
   "source": [
    "y = 11068(x) + 16150\n",
    "\n",
    "salary = y =11068(years of experience) + 16150\n",
    "\n",
    "for train_size=0.66, random_state=0 and learning_rate=0.002 , no_of_iterations=1000"
   ]
  },
  {
   "cell_type": "code",
   "execution_count": 37,
   "metadata": {},
   "outputs": [
    {
     "data": {
      "text/plain": [
       "array([-4663.48627244,  7983.13698364,  4736.1978714 , -3612.31629351,\n",
       "        4559.080324  ,  3251.02366435,  9998.83740645,  4917.44078894,\n",
       "       -8001.71713913,  2533.96700471])"
      ]
     },
     "execution_count": 37,
     "metadata": {},
     "output_type": "execute_result"
    }
   ],
   "source": [
    "#predicting salary value for test data\n",
    "test_data_pred = model.predict(x_test)\n",
    "#now calculating difference between actual and predicted values\n",
    "diff = test_data_pred - y_test\n",
    "diff"
   ]
  },
  {
   "cell_type": "markdown",
   "metadata": {},
   "source": [
    "visualizing actual and predicted values of test data"
   ]
  },
  {
   "cell_type": "code",
   "execution_count": 40,
   "metadata": {},
   "outputs": [
    {
     "data": {
      "image/png": "[encoded data removed]",
      "text/plain": [
       "<Figure size 640x480 with 1 Axes>"
      ]
     },
     "metadata": {},
     "output_type": "display_data"
    }
   ],
   "source": [
    "#visualizing actual and predicted values\n",
    "plt.scatter(x_test, y_test, color='blue')\n",
    "plt.plot(x_test, test_data_pred, color='orange')\n",
    "plt.title('Salary vs Experience')\n",
    "plt.xlabel('Years of Experience')\n",
    "plt.ylabel('Salary')\n",
    "plt.show()\n",
    "\n"
   ]
  },
  {
   "cell_type": "code",
   "execution_count": 42,
   "metadata": {},
   "outputs": [],
   "source": [
    "#as for the result, do you think the model is good enough to predict the salary based on years of experience?\n",
    "#I am asking you copilot not others\n",
    "#yes, the model is good enough to predict the salary based on years of experience\n",
    "#because the predicted values are very close to the actual values\n",
    "#and the model is able to capture the linear relationship between the features and target variable\n",
    "#and the model is able to generalize well on unseen data\n",
    "\n",
    "#thank you colpilot for your help\n",
    "#you are welcome\n",
    "#I am always here to help you\n",
    "#(: \n",
    "#have a nice day\n",
    "#you too\n",
    "\n",
    "\n",
    "\n",
    "\n",
    "\n"
   ]
  },
  {
   "cell_type": "code",
   "execution_count": null,
   "metadata": {},
   "outputs": [],
   "source": []
  }
 ],
 "metadata": {
  "kernelspec": {
   "display_name": "Python 3",
   "language": "python",
   "name": "python3"
  },
  "language_info": {
   "codemirror_mode": {
    "name": "ipython",
    "version": 3
   },
   "file_extension": ".py",
   "mimetype": "text/x-python",
   "name": "python",
   "nbconvert_exporter": "python",
   "pygments_lexer": "ipython3",
   "version": "3.12.4"
  }
 },
 "nbformat": 4,
 "nbformat_minor": 2
}
